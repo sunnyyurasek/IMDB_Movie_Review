{
 "cells": [
  {
   "cell_type": "markdown",
   "metadata": {},
   "source": [
    "IMDB movie review modeling\n",
    "\n",
    "What advice would you give management about such development? What kinds of methods and models would be needed? Would this be a substantial development project? Do you have any ideas about the information infrastructure needed to support conversational agents in a production environment?"
   ]
  },
  {
   "cell_type": "code",
   "execution_count": 1,
   "metadata": {},
   "outputs": [
    {
     "name": "stderr",
     "output_type": "stream",
     "text": [
      "Using TensorFlow backend.\n"
     ]
    }
   ],
   "source": [
    "from keras.datasets import imdb\n",
    "%matplotlib inline\n",
    "import numpy as np\n",
    "import pandas as pd\n",
    "from matplotlib import cm\n",
    "import matplotlib.pyplot as plt\n",
    "import seaborn as sns\n",
    "import os\n",
    "import time"
   ]
  },
  {
   "cell_type": "code",
   "execution_count": 2,
   "metadata": {},
   "outputs": [],
   "source": [
    "from keras.preprocessing import sequence\n",
    "from keras.models import Sequential\n",
    "from keras.layers import Dense, Dropout, Activation\n",
    "from keras.layers import Embedding\n",
    "from keras.layers import Conv1D, GlobalMaxPooling1D\n",
    "from keras.callbacks import EarlyStopping\n",
    "from keras import models"
   ]
  },
  {
   "cell_type": "code",
   "execution_count": 3,
   "metadata": {},
   "outputs": [],
   "source": [
    "##EDA https://machinelearningmastery.com/predict-sentiment-movie-reviews-using-deep-learning/\n",
    "(X_train, y_train), (X_test, y_test) = imdb.load_data()\n",
    "X = np.concatenate((X_train, X_test), axis=0)\n",
    "y = np.concatenate((y_train, y_test), axis=0)"
   ]
  },
  {
   "cell_type": "code",
   "execution_count": 4,
   "metadata": {},
   "outputs": [
    {
     "name": "stdout",
     "output_type": "stream",
     "text": [
      "Training data: \n",
      "(50000,)\n",
      "(50000,)\n",
      "Classes: \n",
      "[0 1]\n"
     ]
    }
   ],
   "source": [
    "##training data shape review\n",
    "print(\"Training data: \")\n",
    "print(X.shape)\n",
    "print(y.shape)\n",
    "print(\"Classes: \")\n",
    "print(np.unique(y))"
   ]
  },
  {
   "cell_type": "code",
   "execution_count": 5,
   "metadata": {},
   "outputs": [
    {
     "name": "stdout",
     "output_type": "stream",
     "text": [
      "Number of words: \n",
      "88585\n"
     ]
    }
   ],
   "source": [
    "print(\"Number of words: \")\n",
    "print(len(np.unique(np.hstack(X))))"
   ]
  },
  {
   "cell_type": "code",
   "execution_count": 6,
   "metadata": {},
   "outputs": [
    {
     "name": "stdout",
     "output_type": "stream",
     "text": [
      "Review length: \n",
      "Mean 234.76 words (172.911495)\n"
     ]
    },
    {
     "data": {
      "image/png": "[encoded data removed]",
      "text/plain": [
       "<Figure size 432x288 with 1 Axes>"
      ]
     },
     "metadata": {
      "needs_background": "light"
     },
     "output_type": "display_data"
    }
   ],
   "source": [
    "print(\"Review length: \")\n",
    "result = [len(x) for x in X]\n",
    "print(\"Mean %.2f words (%f)\" % (np.mean(result), np.std(result)))\n",
    "# plot review length\n",
    "plt.boxplot(result)\n",
    "plt.show()"
   ]
  },
  {
   "cell_type": "code",
   "execution_count": 7,
   "metadata": {},
   "outputs": [],
   "source": [
    "#####Analysis#####"
   ]
  },
  {
   "cell_type": "code",
   "execution_count": 8,
   "metadata": {},
   "outputs": [],
   "source": [
    "(train_data, train_labels), (test_data, test_labels) = imdb.load_data(num_words=5000)"
   ]
  },
  {
   "cell_type": "code",
   "execution_count": 9,
   "metadata": {},
   "outputs": [],
   "source": [
    "def vectorize_sequences(sequences, dimension=5000):\n",
    "    # Create an all-zero matrix of shape (len(sequences), dimension)\n",
    "    results = np.zeros((len(sequences), dimension))\n",
    "    for i, sequence in enumerate(sequences):\n",
    "        results[i, sequence] = 1.  # set specific indices of results[i] to 1s\n",
    "    return results\n",
    "\n",
    "# Our vectorized training data\n",
    "x_train = vectorize_sequences(train_data)\n",
    "# Our vectorized test data\n",
    "x_test = vectorize_sequences(test_data)"
   ]
  },
  {
   "cell_type": "code",
   "execution_count": 10,
   "metadata": {},
   "outputs": [],
   "source": [
    "# Our vectorized labels one-hot encoder\n",
    "y_train = np.asarray(train_labels).astype('float32')\n",
    "y_test = np.asarray(test_labels).astype('float32')"
   ]
  },
  {
   "cell_type": "code",
   "execution_count": 11,
   "metadata": {},
   "outputs": [],
   "source": [
    "from keras import layers\n",
    "from keras import models\n",
    "\n",
    "model = models.Sequential()\n",
    "model.add(layers.Dense(32, activation='relu', input_shape=(5000,)))\n",
    "model.add(layers.Dense(32, activation='relu',))\n",
    "model.add(layers.Dense(1, activation='sigmoid'))"
   ]
  },
  {
   "cell_type": "code",
   "execution_count": 12,
   "metadata": {},
   "outputs": [],
   "source": [
    "#Set validation set aside\n",
    "\n",
    "x_val = x_train[:10000]\n",
    "partial_x_train = x_train[10000:]\n",
    "\n",
    "y_val = y_train[:10000]\n",
    "partial_y_train = y_train[10000:]"
   ]
  },
  {
   "cell_type": "code",
   "execution_count": 13,
   "metadata": {},
   "outputs": [],
   "source": [
    "model.compile(optimizer='adam',\n",
    "              loss='binary_crossentropy',\n",
    "              metrics=['acc'])"
   ]
  },
  {
   "cell_type": "code",
   "execution_count": 14,
   "metadata": {},
   "outputs": [
    {
     "name": "stdout",
     "output_type": "stream",
     "text": [
      "Train on 15000 samples, validate on 10000 samples\n",
      "Epoch 1/20\n",
      "15000/15000 [==============================] - 2s 137us/step - loss: 0.5108 - acc: 0.7939 - val_loss: 0.3472 - val_acc: 0.8667\n",
      "Epoch 2/20\n",
      "15000/15000 [==============================] - 2s 106us/step - loss: 0.2702 - acc: 0.8987 - val_loss: 0.2872 - val_acc: 0.8838\n",
      "Epoch 3/20\n",
      "15000/15000 [==============================] - 2s 105us/step - loss: 0.2018 - acc: 0.9238 - val_loss: 0.2901 - val_acc: 0.8830\n",
      "Epoch 4/20\n",
      "15000/15000 [==============================] - 2s 104us/step - loss: 0.1649 - acc: 0.9412 - val_loss: 0.3101 - val_acc: 0.8807\n",
      "Epoch 5/20\n",
      "15000/15000 [==============================] - 2s 105us/step - loss: 0.1395 - acc: 0.9511 - val_loss: 0.3378 - val_acc: 0.8741\n",
      "Epoch 6/20\n",
      "15000/15000 [==============================] - 2s 105us/step - loss: 0.1190 - acc: 0.9597 - val_loss: 0.3672 - val_acc: 0.8693\n",
      "Epoch 7/20\n",
      "15000/15000 [==============================] - 2s 107us/step - loss: 0.1022 - acc: 0.9658 - val_loss: 0.4080 - val_acc: 0.8638\n",
      "Epoch 8/20\n",
      "15000/15000 [==============================] - 2s 109us/step - loss: 0.0840 - acc: 0.9729 - val_loss: 0.4400 - val_acc: 0.8639\n",
      "Epoch 9/20\n",
      "15000/15000 [==============================] - 2s 104us/step - loss: 0.0658 - acc: 0.9815 - val_loss: 0.4819 - val_acc: 0.8619\n",
      "Epoch 10/20\n",
      "15000/15000 [==============================] - 2s 106us/step - loss: 0.0489 - acc: 0.9895 - val_loss: 0.5272 - val_acc: 0.8581\n",
      "Epoch 11/20\n",
      "15000/15000 [==============================] - 2s 105us/step - loss: 0.0370 - acc: 0.9937 - val_loss: 0.5679 - val_acc: 0.8590\n",
      "Epoch 12/20\n",
      "15000/15000 [==============================] - 2s 104us/step - loss: 0.0261 - acc: 0.9967 - val_loss: 0.6118 - val_acc: 0.8579\n",
      "Epoch 13/20\n",
      "15000/15000 [==============================] - 2s 105us/step - loss: 0.0207 - acc: 0.9979 - val_loss: 0.6500 - val_acc: 0.8558\n",
      "Epoch 14/20\n",
      "15000/15000 [==============================] - 2s 105us/step - loss: 0.0135 - acc: 0.9993 - val_loss: 0.6879 - val_acc: 0.8525\n",
      "Epoch 15/20\n",
      "15000/15000 [==============================] - 2s 105us/step - loss: 0.0096 - acc: 0.9997 - val_loss: 0.7226 - val_acc: 0.8528\n",
      "Epoch 16/20\n",
      "15000/15000 [==============================] - 2s 104us/step - loss: 0.0070 - acc: 0.9999 - val_loss: 0.7516 - val_acc: 0.8536\n",
      "Epoch 17/20\n",
      "15000/15000 [==============================] - 2s 107us/step - loss: 0.0054 - acc: 1.0000 - val_loss: 0.7768 - val_acc: 0.8521\n",
      "Epoch 18/20\n",
      "15000/15000 [==============================] - 2s 107us/step - loss: 0.0043 - acc: 1.0000 - val_loss: 0.7994 - val_acc: 0.8525\n",
      "Epoch 19/20\n",
      "15000/15000 [==============================] - 2s 106us/step - loss: 0.0035 - acc: 1.0000 - val_loss: 0.8201 - val_acc: 0.8528\n",
      "Epoch 20/20\n",
      "15000/15000 [==============================] - 2s 107us/step - loss: 0.0029 - acc: 1.0000 - val_loss: 0.8404 - val_acc: 0.8528\n",
      "The Dense Convolutional Neural Network 1 layer took 32.8294 seconds to train.\n"
     ]
    }
   ],
   "source": [
    "start_time_m1 = time.time()\n",
    "history = model.fit(partial_x_train,\n",
    "                    partial_y_train,\n",
    "                    epochs=20,\n",
    "                    batch_size=512,\n",
    "                    validation_data=(x_val, y_val))\n",
    "total_time_m1 = time.time() - start_time_m1\n",
    "\n",
    "print(\"The Dense Convolutional Neural Network 1 layer took %.4f seconds to train.\" % (total_time_m1))"
   ]
  },
  {
   "cell_type": "code",
   "execution_count": 15,
   "metadata": {},
   "outputs": [
    {
     "data": {
      "text/plain": [
       "dict_keys(['val_loss', 'val_acc', 'loss', 'acc'])"
      ]
     },
     "execution_count": 15,
     "metadata": {},
     "output_type": "execute_result"
    }
   ],
   "source": [
    "history_dict = history.history\n",
    "history_dict.keys()"
   ]
  },
  {
   "cell_type": "code",
   "execution_count": 16,
   "metadata": {},
   "outputs": [
    {
     "data": {
      "image/png": "[encoded data removed]",
      "text/plain": [
       "<Figure size 432x288 with 1 Axes>"
      ]
     },
     "metadata": {
      "needs_background": "light"
     },
     "output_type": "display_data"
    }
   ],
   "source": [
    "import matplotlib.pyplot as plt\n",
    "%matplotlib inline\n",
    "\n",
    "acc = history.history['acc']\n",
    "val_acc = history.history['val_acc']\n",
    "loss = history.history['loss']\n",
    "val_loss = history.history['val_loss']\n",
    "\n",
    "epochs = range(1, len(acc) + 1)\n",
    "\n",
    "# \"bo\" is for \"blue dot\"\n",
    "plt.plot(epochs, loss, 'bo', label='Training loss')\n",
    "# b is for \"solid blue line\"\n",
    "plt.plot(epochs, val_loss, 'b', label='Validation loss')\n",
    "plt.title('Training and validation loss')\n",
    "plt.xlabel('Epochs')\n",
    "plt.ylabel('Loss')\n",
    "plt.legend()\n",
    "\n",
    "plt.show()"
   ]
  },
  {
   "cell_type": "code",
   "execution_count": 17,
   "metadata": {},
   "outputs": [
    {
     "data": {
      "image/png": "[encoded data removed]",
      "text/plain": [
       "<Figure size 432x288 with 1 Axes>"
      ]
     },
     "metadata": {
      "needs_background": "light"
     },
     "output_type": "display_data"
    }
   ],
   "source": [
    "plt.clf()   # clear figure\n",
    "acc_values = history_dict['acc']\n",
    "val_acc_values = history_dict['val_acc']\n",
    "\n",
    "plt.plot(epochs, acc, 'bo', label='Training acc')\n",
    "plt.plot(epochs, val_acc, 'b', label='Validation acc')\n",
    "plt.title('Training and validation accuracy')\n",
    "plt.xlabel('Epochs')\n",
    "plt.ylabel('Loss')\n",
    "plt.legend()\n",
    "\n",
    "plt.show()"
   ]
  },
  {
   "cell_type": "code",
   "execution_count": 18,
   "metadata": {},
   "outputs": [
    {
     "name": "stdout",
     "output_type": "stream",
     "text": [
      "Model: \"sequential_1\"\n",
      "_________________________________________________________________\n",
      "Layer (type)                 Output Shape              Param #   \n",
      "=================================================================\n",
      "dense_1 (Dense)              (None, 32)                160032    \n",
      "_________________________________________________________________\n",
      "dense_2 (Dense)              (None, 32)                1056      \n",
      "_________________________________________________________________\n",
      "dense_3 (Dense)              (None, 1)                 33        \n",
      "=================================================================\n",
      "Total params: 161,121\n",
      "Trainable params: 161,121\n",
      "Non-trainable params: 0\n",
      "_________________________________________________________________\n"
     ]
    }
   ],
   "source": [
    "model.summary()"
   ]
  },
  {
   "cell_type": "code",
   "execution_count": 19,
   "metadata": {},
   "outputs": [
    {
     "data": {
      "text/plain": [
       "0.84532"
      ]
     },
     "execution_count": 19,
     "metadata": {},
     "output_type": "execute_result"
    }
   ],
   "source": [
    "from sklearn.metrics import confusion_matrix, accuracy_score, auc\n",
    "#predictions\n",
    "pred = model.predict_classes(x_test)\n",
    "\n",
    "#accuracy\n",
    "accuracy_score(y_test,pred)"
   ]
  },
  {
   "cell_type": "code",
   "execution_count": 20,
   "metadata": {},
   "outputs": [
    {
     "name": "stdout",
     "output_type": "stream",
     "text": [
      "[[10556  1944]\n",
      " [ 1923 10577]]\n"
     ]
    },
    {
     "data": {
      "text/plain": [
       "Text(0.5, 15.0, 'Predicted label')"
      ]
     },
     "execution_count": 20,
     "metadata": {},
     "output_type": "execute_result"
    },
    {
     "data": {
      "image/png": "[encoded data removed]",
      "text/plain": [
       "<Figure size 432x288 with 2 Axes>"
      ]
     },
     "metadata": {
      "needs_background": "light"
     },
     "output_type": "display_data"
    }
   ],
   "source": [
    "#Confusion Matrix\n",
    "conf_mat = confusion_matrix(y_test, pred)\n",
    "print(conf_mat)\n",
    "\n",
    "conf_mat_normalized = conf_mat.astype('float') / conf_mat.sum(axis=1)[:, np.newaxis]\n",
    "sns.heatmap(conf_mat_normalized)\n",
    "plt.ylabel('True label')\n",
    "plt.xlabel('Predicted label')"
   ]
  },
  {
   "cell_type": "markdown",
   "metadata": {},
   "source": [
    "##DNN with 2 layers####"
   ]
  },
  {
   "cell_type": "code",
   "execution_count": 21,
   "metadata": {},
   "outputs": [],
   "source": [
    "model2 = models.Sequential()\n",
    "model2.add(layers.Dense(32, activation='relu', input_shape=(5000,)))\n",
    "model2.add(layers.Dense(32, activation='relu'))\n",
    "model2.add(layers.Dense(32, activation='relu'))\n",
    "model2.add(layers.Dense(1, activation='sigmoid'))"
   ]
  },
  {
   "cell_type": "code",
   "execution_count": 22,
   "metadata": {},
   "outputs": [],
   "source": [
    "model2.compile(optimizer='adam',\n",
    "              loss='binary_crossentropy',\n",
    "              metrics=['acc'])"
   ]
  },
  {
   "cell_type": "code",
   "execution_count": 23,
   "metadata": {},
   "outputs": [
    {
     "name": "stdout",
     "output_type": "stream",
     "text": [
      "Train on 15000 samples, validate on 10000 samples\n",
      "Epoch 1/20\n",
      "15000/15000 [==============================] - 2s 137us/step - loss: 0.5929 - acc: 0.7167 - val_loss: 0.4044 - val_acc: 0.8504\n",
      "Epoch 2/20\n",
      "15000/15000 [==============================] - 2s 107us/step - loss: 0.2951 - acc: 0.8903 - val_loss: 0.2929 - val_acc: 0.8808\n",
      "Epoch 3/20\n",
      "15000/15000 [==============================] - 2s 107us/step - loss: 0.2003 - acc: 0.9253 - val_loss: 0.3010 - val_acc: 0.8803\n",
      "Epoch 4/20\n",
      "15000/15000 [==============================] - 2s 105us/step - loss: 0.1610 - acc: 0.9397 - val_loss: 0.3239 - val_acc: 0.8774\n",
      "Epoch 5/20\n",
      "15000/15000 [==============================] - 2s 109us/step - loss: 0.1305 - acc: 0.9528 - val_loss: 0.3769 - val_acc: 0.8708\n",
      "Epoch 6/20\n",
      "15000/15000 [==============================] - 2s 105us/step - loss: 0.1059 - acc: 0.9641 - val_loss: 0.4008 - val_acc: 0.8688\n",
      "Epoch 7/20\n",
      "15000/15000 [==============================] - 2s 105us/step - loss: 0.0820 - acc: 0.9743 - val_loss: 0.4502 - val_acc: 0.8655\n",
      "Epoch 8/20\n",
      "15000/15000 [==============================] - 2s 105us/step - loss: 0.0585 - acc: 0.9846 - val_loss: 0.5282 - val_acc: 0.8540\n",
      "Epoch 9/20\n",
      "15000/15000 [==============================] - 2s 106us/step - loss: 0.0494 - acc: 0.9869 - val_loss: 0.5706 - val_acc: 0.8583\n",
      "Epoch 10/20\n",
      "15000/15000 [==============================] - 2s 105us/step - loss: 0.0317 - acc: 0.9933 - val_loss: 0.6329 - val_acc: 0.8520\n",
      "Epoch 11/20\n",
      "15000/15000 [==============================] - 2s 107us/step - loss: 0.0209 - acc: 0.9971 - val_loss: 0.6854 - val_acc: 0.8514\n",
      "Epoch 12/20\n",
      "15000/15000 [==============================] - 2s 107us/step - loss: 0.0123 - acc: 0.9989 - val_loss: 0.7361 - val_acc: 0.8534\n",
      "Epoch 13/20\n",
      "15000/15000 [==============================] - 2s 105us/step - loss: 0.0075 - acc: 0.9995 - val_loss: 0.7897 - val_acc: 0.8504\n",
      "Epoch 14/20\n",
      "15000/15000 [==============================] - 2s 108us/step - loss: 0.0051 - acc: 0.9996 - val_loss: 0.8245 - val_acc: 0.8526\n",
      "Epoch 15/20\n",
      "15000/15000 [==============================] - 2s 115us/step - loss: 0.0035 - acc: 0.9997 - val_loss: 0.8608 - val_acc: 0.8535\n",
      "Epoch 16/20\n",
      "15000/15000 [==============================] - 2s 107us/step - loss: 0.0023 - acc: 0.9999 - val_loss: 0.8906 - val_acc: 0.8537\n",
      "Epoch 17/20\n",
      "15000/15000 [==============================] - 2s 107us/step - loss: 0.0018 - acc: 1.0000 - val_loss: 0.9168 - val_acc: 0.8544\n",
      "Epoch 18/20\n",
      "15000/15000 [==============================] - 2s 107us/step - loss: 0.0014 - acc: 1.0000 - val_loss: 0.9418 - val_acc: 0.8544\n",
      "Epoch 19/20\n",
      "15000/15000 [==============================] - 2s 105us/step - loss: 0.0012 - acc: 1.0000 - val_loss: 0.9619 - val_acc: 0.8540\n",
      "Epoch 20/20\n",
      "15000/15000 [==============================] - 2s 105us/step - loss: 9.7220e-04 - acc: 1.0000 - val_loss: 0.9791 - val_acc: 0.8534\n",
      "The Dense Convolutional Neural Network 2 layers took 33.5044 seconds to train.\n"
     ]
    }
   ],
   "source": [
    "start_time_m2 = time.time()\n",
    "history= model2.fit(partial_x_train,\n",
    "                    partial_y_train,\n",
    "                    epochs=20,\n",
    "                    batch_size=512,\n",
    "                    validation_data=(x_val, y_val))\n",
    "total_time_m2 = time.time() - start_time_m2\n",
    "\n",
    "print(\"The Dense Convolutional Neural Network 2 layers took %.4f seconds to train.\" % (total_time_m2))"
   ]
  },
  {
   "cell_type": "code",
   "execution_count": 24,
   "metadata": {},
   "outputs": [
    {
     "data": {
      "image/png": "[encoded data removed]",
      "text/plain": [
       "<Figure size 432x288 with 1 Axes>"
      ]
     },
     "metadata": {
      "needs_background": "light"
     },
     "output_type": "display_data"
    }
   ],
   "source": [
    "acc = history.history['acc']\n",
    "val_acc = history.history['val_acc']\n",
    "loss = history.history['loss']\n",
    "val_loss = history.history['val_loss']\n",
    "\n",
    "epochs = range(1, len(acc) + 1)\n",
    "\n",
    "# \"bo\" is for \"blue dot\"\n",
    "plt.plot(epochs, loss, 'bo', label='Training loss')\n",
    "# b is for \"solid blue line\"\n",
    "plt.plot(epochs, val_loss, 'b', label='Validation loss')\n",
    "plt.title('DNN 2 layer Training and validation loss')\n",
    "plt.xlabel('Epochs')\n",
    "plt.ylabel('Loss')\n",
    "plt.legend()\n",
    "\n",
    "plt.show()"
   ]
  },
  {
   "cell_type": "code",
   "execution_count": 25,
   "metadata": {},
   "outputs": [
    {
     "data": {
      "image/png": "[encoded data removed]",
      "text/plain": [
       "<Figure size 432x288 with 1 Axes>"
      ]
     },
     "metadata": {
      "needs_background": "light"
     },
     "output_type": "display_data"
    }
   ],
   "source": [
    "plt.clf()   # clear figure\n",
    "acc_values = history_dict['acc']\n",
    "val_acc_values = history_dict['val_acc']\n",
    "\n",
    "plt.plot(epochs, acc, 'bo', label='Training acc')\n",
    "plt.plot(epochs, val_acc, 'b', label='Validation acc')\n",
    "plt.title('DNN 2 layer Training and validation accuracy')\n",
    "plt.xlabel('Epochs')\n",
    "plt.ylabel('Loss')\n",
    "plt.legend()\n",
    "\n",
    "plt.show()"
   ]
  },
  {
   "cell_type": "code",
   "execution_count": 26,
   "metadata": {},
   "outputs": [
    {
     "name": "stdout",
     "output_type": "stream",
     "text": [
      "Model: \"sequential_2\"\n",
      "_________________________________________________________________\n",
      "Layer (type)                 Output Shape              Param #   \n",
      "=================================================================\n",
      "dense_4 (Dense)              (None, 32)                160032    \n",
      "_________________________________________________________________\n",
      "dense_5 (Dense)              (None, 32)                1056      \n",
      "_________________________________________________________________\n",
      "dense_6 (Dense)              (None, 32)                1056      \n",
      "_________________________________________________________________\n",
      "dense_7 (Dense)              (None, 1)                 33        \n",
      "=================================================================\n",
      "Total params: 162,177\n",
      "Trainable params: 162,177\n",
      "Non-trainable params: 0\n",
      "_________________________________________________________________\n"
     ]
    }
   ],
   "source": [
    "model2.summary()"
   ]
  },
  {
   "cell_type": "code",
   "execution_count": 27,
   "metadata": {},
   "outputs": [
    {
     "data": {
      "text/plain": [
       "0.84288"
      ]
     },
     "execution_count": 27,
     "metadata": {},
     "output_type": "execute_result"
    }
   ],
   "source": [
    "pred = model2.predict_classes(x_test)\n",
    "\n",
    "#accuracy\n",
    "accuracy_score(y_test,pred)"
   ]
  },
  {
   "cell_type": "code",
   "execution_count": 28,
   "metadata": {},
   "outputs": [],
   "source": [
    "####2 layer DNN change of optimizer add ES#"
   ]
  },
  {
   "cell_type": "code",
   "execution_count": 29,
   "metadata": {},
   "outputs": [
    {
     "name": "stdout",
     "output_type": "stream",
     "text": [
      "Train on 15000 samples, validate on 10000 samples\n",
      "Epoch 1/20\n",
      "15000/15000 [==============================] - 2s 129us/step - loss: 0.5207 - acc: 0.7557 - val_loss: 0.3824 - val_acc: 0.8501\n",
      "Epoch 2/20\n",
      "15000/15000 [==============================] - 2s 107us/step - loss: 0.2961 - acc: 0.8886 - val_loss: 0.2925 - val_acc: 0.8817\n",
      "Epoch 3/20\n",
      "15000/15000 [==============================] - 2s 108us/step - loss: 0.2305 - acc: 0.9117 - val_loss: 0.3073 - val_acc: 0.8776\n",
      "Epoch 00003: early stopping\n",
      "The Dense Convolutional Neural Network 2 layers Optimzed took 5.7809 seconds to train.\n"
     ]
    }
   ],
   "source": [
    "model2a = models.Sequential()\n",
    "model2a.add(layers.Dense(32, activation='relu', input_shape=(5000,)))\n",
    "model2a.add(layers.Dense(32, activation='relu'))\n",
    "model2a.add(layers.Dense(32, activation='relu'))\n",
    "model2a.add(layers.Dense(1, activation='sigmoid'))\n",
    "\n",
    "model2a.compile(optimizer='rmsprop',\n",
    "              loss='binary_crossentropy',\n",
    "              metrics=['acc'])\n",
    "\n",
    "es = EarlyStopping(monitor='val_loss', mode='min', verbose=1)\n",
    "\n",
    "start_time_m2a = time.time()\n",
    "history= model2a.fit(partial_x_train,\n",
    "                    partial_y_train,\n",
    "                    epochs=20,\n",
    "                    batch_size=512,\n",
    "                    validation_data=(x_val, y_val), callbacks=[es])\n",
    "total_time_m2a = time.time() - start_time_m2a\n",
    "\n",
    "print(\"The Dense Convolutional Neural Network 2 layers Optimzed took %.4f seconds to train.\" % (total_time_m2a))"
   ]
  },
  {
   "cell_type": "code",
   "execution_count": 30,
   "metadata": {},
   "outputs": [
    {
     "name": "stdout",
     "output_type": "stream",
     "text": [
      "25000/25000 [==============================] - 2s 84us/step\n"
     ]
    },
    {
     "data": {
      "text/plain": [
       "[0.3207774051761627, 0.8704000115394592]"
      ]
     },
     "execution_count": 30,
     "metadata": {},
     "output_type": "execute_result"
    }
   ],
   "source": [
    "results2a=model2a.evaluate(x_test, y_test)\n",
    "results2a"
   ]
  },
  {
   "cell_type": "code",
   "execution_count": 31,
   "metadata": {},
   "outputs": [
    {
     "data": {
      "image/png": "[encoded data removed]",
      "text/plain": [
       "<Figure size 432x288 with 1 Axes>"
      ]
     },
     "metadata": {
      "needs_background": "light"
     },
     "output_type": "display_data"
    }
   ],
   "source": [
    "acc = history.history['acc']\n",
    "val_acc = history.history['val_acc']\n",
    "loss = history.history['loss']\n",
    "val_loss = history.history['val_loss']\n",
    "\n",
    "epochs = range(1, len(acc) + 1)\n",
    "# \"bo\" is for \"blue dot\"\n",
    "plt.plot(epochs, loss, 'bo', label='Training loss')\n",
    "# b is for \"solid blue line\"\n",
    "plt.plot(epochs, val_loss, 'b', label='Validation loss')\n",
    "plt.title('DNN 2 layer Optimized Training and validation loss')\n",
    "plt.xlabel('Epochs')\n",
    "plt.ylabel('Loss')\n",
    "plt.legend()\n",
    "\n",
    "plt.show()"
   ]
  },
  {
   "cell_type": "code",
   "execution_count": 32,
   "metadata": {},
   "outputs": [
    {
     "data": {
      "image/png": "[encoded data removed]",
      "text/plain": [
       "<Figure size 432x288 with 1 Axes>"
      ]
     },
     "metadata": {
      "needs_background": "light"
     },
     "output_type": "display_data"
    }
   ],
   "source": [
    "plt.clf()   # clear figure\n",
    "acc_values = history_dict['acc']\n",
    "val_acc_values = history_dict['val_acc']\n",
    "\n",
    "plt.plot(epochs, acc, 'bo', label='Training acc')\n",
    "plt.plot(epochs, val_acc, 'b', label='Validation acc')\n",
    "plt.title('DNN 2 layer Optimized Training and validation accuracy')\n",
    "plt.xlabel('Epochs')\n",
    "plt.ylabel('Loss')\n",
    "plt.legend()\n",
    "\n",
    "plt.show()"
   ]
  },
  {
   "cell_type": "code",
   "execution_count": 33,
   "metadata": {},
   "outputs": [],
   "source": [
    "####1D CNN #####"
   ]
  },
  {
   "cell_type": "code",
   "execution_count": 34,
   "metadata": {},
   "outputs": [],
   "source": [
    "from keras.layers import Conv1D, GlobalMaxPooling1D\n",
    "from keras.preprocessing import sequence\n",
    "np.random.seed(7)"
   ]
  },
  {
   "cell_type": "code",
   "execution_count": 35,
   "metadata": {},
   "outputs": [],
   "source": [
    "# set parameters:\n",
    "max_features = 5000\n",
    "maxlen = 400\n",
    "batch_size = 32\n",
    "embedding_dims = 50\n",
    "filters = 250\n",
    "kernel_size = 3\n",
    "hidden_dims = 250\n",
    "epochs = 2"
   ]
  },
  {
   "cell_type": "code",
   "execution_count": 36,
   "metadata": {},
   "outputs": [
    {
     "name": "stdout",
     "output_type": "stream",
     "text": [
      "Loading data...\n",
      "25000 train sequences\n",
      "25000 test sequences\n",
      "Pad sequences (samples x time)\n",
      "x_train shape: (25000, 400)\n",
      "x_test shape: (25000, 400)\n"
     ]
    }
   ],
   "source": [
    "print('Loading data...')\n",
    "(x_train, y_train), (x_test, y_test) = imdb.load_data(num_words=max_features)\n",
    "print(len(x_train), 'train sequences')\n",
    "print(len(x_test), 'test sequences')\n",
    "\n",
    "print('Pad sequences (samples x time)')\n",
    "x_train = sequence.pad_sequences(x_train, maxlen=maxlen)\n",
    "x_test = sequence.pad_sequences(x_test, maxlen=maxlen)\n",
    "print('x_train shape:', x_train.shape)\n",
    "print('x_test shape:', x_test.shape)"
   ]
  },
  {
   "cell_type": "code",
   "execution_count": 37,
   "metadata": {},
   "outputs": [],
   "source": [
    "#Set validation set aside\n",
    "\n",
    "x_val = x_train[:10000]\n",
    "partial_x_train = x_train[10000:]\n",
    "\n",
    "y_val = y_train[:10000]\n",
    "partial_y_train = y_train[10000:]"
   ]
  },
  {
   "cell_type": "code",
   "execution_count": 38,
   "metadata": {},
   "outputs": [
    {
     "name": "stdout",
     "output_type": "stream",
     "text": [
      "x_val shape: (10000, 400)\n"
     ]
    }
   ],
   "source": [
    "print('x_val shape:', x_val.shape)"
   ]
  },
  {
   "cell_type": "code",
   "execution_count": 39,
   "metadata": {},
   "outputs": [],
   "source": [
    "model3a = models.Sequential()\n",
    "\n",
    "# we start off with an efficient embedding layer which maps\n",
    "# our vocab indices into embedding_dims dimensions\n",
    "model3a.add(Embedding(max_features,\n",
    "                    embedding_dims,\n",
    "                    input_length=maxlen))\n",
    "\n",
    "# we add a Convolution1D, which will learn filters\n",
    "# word group filters of size filter_length:\n",
    "model3a.add(Conv1D(filters,\n",
    "                 kernel_size,\n",
    "                 padding='valid',\n",
    "                 activation='relu',\n",
    "                 strides=1))\n",
    "# we use max pooling:\n",
    "model3a.add(GlobalMaxPooling1D())\n",
    "\n",
    "# We add a vanilla hidden layer:\n",
    "model3a.add(Dense(hidden_dims))\n",
    "model3a.add(Activation('relu'))\n",
    "\n",
    "# We project onto a single unit output layer, and squash it with a sigmoid:\n",
    "model3a.add(Dense(1))\n",
    "model3a.add(Activation('sigmoid'))\n",
    "\n",
    "model3a.compile(loss='binary_crossentropy',\n",
    "              optimizer='adam',\n",
    "              metrics=['acc'])"
   ]
  },
  {
   "cell_type": "code",
   "execution_count": 40,
   "metadata": {},
   "outputs": [
    {
     "name": "stderr",
     "output_type": "stream",
     "text": [
      "C:\\Users\\syurasek\\AppData\\Local\\Continuum\\anaconda3\\lib\\site-packages\\tensorflow_core\\python\\framework\\indexed_slices.py:424: UserWarning: Converting sparse IndexedSlices to a dense Tensor of unknown shape. This may consume a large amount of memory.\n",
      "  \"Converting sparse IndexedSlices to a dense Tensor of unknown shape. \"\n"
     ]
    },
    {
     "name": "stdout",
     "output_type": "stream",
     "text": [
      "Train on 15000 samples, validate on 10000 samples\n",
      "Epoch 1/20\n",
      "15000/15000 [==============================] - 61s 4ms/step - loss: 0.6836 - acc: 0.5957 - val_loss: 0.6538 - val_acc: 0.6397\n",
      "Epoch 2/20\n",
      "15000/15000 [==============================] - 60s 4ms/step - loss: 0.5139 - acc: 0.7914 - val_loss: 0.3815 - val_acc: 0.8314\n",
      "Epoch 3/20\n",
      "15000/15000 [==============================] - 55s 4ms/step - loss: 0.2962 - acc: 0.8787 - val_loss: 0.2982 - val_acc: 0.8747\n",
      "Epoch 4/20\n",
      "15000/15000 [==============================] - 48s 3ms/step - loss: 0.1979 - acc: 0.9264 - val_loss: 0.2791 - val_acc: 0.8849\n",
      "Epoch 5/20\n",
      "15000/15000 [==============================] - 52s 3ms/step - loss: 0.1342 - acc: 0.9575 - val_loss: 0.2816 - val_acc: 0.8879\n",
      "Epoch 00005: early stopping\n",
      "The 1D CNN took 276.5342 seconds to train.\n",
      "25000/25000 [==============================] - 39s 2ms/step \n"
     ]
    },
    {
     "data": {
      "text/plain": [
       "[0.285560665576458, 0.8830400109291077]"
      ]
     },
     "execution_count": 40,
     "metadata": {},
     "output_type": "execute_result"
    }
   ],
   "source": [
    "start_time_m3a = time.time()\n",
    "history = model3a.fit(partial_x_train,partial_y_train, epochs=20, batch_size=512, validation_data=(x_val, y_val), callbacks=[es])\n",
    "\n",
    "total_time_m3a = time.time() - start_time_m3a\n",
    "\n",
    "print(\"The 1D CNN took %.4f seconds to train.\" % (total_time_m3a))\n",
    "results3a=model3a.evaluate(x_test, y_test)\n",
    "results3a"
   ]
  },
  {
   "cell_type": "code",
   "execution_count": 77,
   "metadata": {},
   "outputs": [
    {
     "name": "stdout",
     "output_type": "stream",
     "text": [
      "Model: \"sequential_4\"\n",
      "_________________________________________________________________\n",
      "Layer (type)                 Output Shape              Param #   \n",
      "=================================================================\n",
      "embedding_1 (Embedding)      (None, 400, 50)           250000    \n",
      "_________________________________________________________________\n",
      "conv1d_1 (Conv1D)            (None, 398, 250)          37750     \n",
      "_________________________________________________________________\n",
      "global_max_pooling1d_1 (Glob (None, 250)               0         \n",
      "_________________________________________________________________\n",
      "dense_12 (Dense)             (None, 250)               62750     \n",
      "_________________________________________________________________\n",
      "activation_1 (Activation)    (None, 250)               0         \n",
      "_________________________________________________________________\n",
      "dense_13 (Dense)             (None, 1)                 251       \n",
      "_________________________________________________________________\n",
      "activation_2 (Activation)    (None, 1)                 0         \n",
      "=================================================================\n",
      "Total params: 350,751\n",
      "Trainable params: 350,751\n",
      "Non-trainable params: 0\n",
      "_________________________________________________________________\n"
     ]
    }
   ],
   "source": [
    "model3a.summary()"
   ]
  },
  {
   "cell_type": "code",
   "execution_count": 41,
   "metadata": {},
   "outputs": [
    {
     "data": {
      "image/png": "[encoded data removed]",
      "text/plain": [
       "<Figure size 432x288 with 1 Axes>"
      ]
     },
     "metadata": {
      "needs_background": "light"
     },
     "output_type": "display_data"
    }
   ],
   "source": [
    "acc = history.history['acc']\n",
    "val_acc = history.history['val_acc']\n",
    "loss = history.history['loss']\n",
    "val_loss = history.history['val_loss']\n",
    "\n",
    "epochs = range(1, len(acc) + 1)\n",
    "\n",
    "# \"bo\" is for \"blue dot\"\n",
    "plt.plot(epochs, loss, 'bo', label='Training loss')\n",
    "# b is for \"solid blue line\"\n",
    "plt.plot(epochs, val_loss, 'b', label='Validation loss')\n",
    "plt.title('1D CNN Training and validation loss')\n",
    "plt.xlabel('Epochs')\n",
    "plt.ylabel('Loss')\n",
    "plt.legend()\n",
    "\n",
    "plt.show()"
   ]
  },
  {
   "cell_type": "code",
   "execution_count": 42,
   "metadata": {},
   "outputs": [
    {
     "data": {
      "image/png": "[encoded data removed]",
      "text/plain": [
       "<Figure size 432x288 with 1 Axes>"
      ]
     },
     "metadata": {
      "needs_background": "light"
     },
     "output_type": "display_data"
    }
   ],
   "source": [
    "plt.clf()   # clear figure\n",
    "acc_values = history_dict['acc']\n",
    "val_acc_values = history_dict['val_acc']\n",
    "\n",
    "plt.plot(epochs, acc, 'bo', label='Training acc')\n",
    "plt.plot(epochs, val_acc, 'b', label='Validation acc')\n",
    "plt.title('1D CNN Training and validation accuracy')\n",
    "plt.xlabel('Epochs')\n",
    "plt.ylabel('Loss')\n",
    "plt.legend()\n",
    "\n",
    "plt.show()"
   ]
  },
  {
   "cell_type": "code",
   "execution_count": 43,
   "metadata": {},
   "outputs": [],
   "source": [
    "####1D CNN with drop out####"
   ]
  },
  {
   "cell_type": "code",
   "execution_count": 44,
   "metadata": {},
   "outputs": [],
   "source": [
    "model3 = models.Sequential()\n",
    "\n",
    "# we start off with an efficient embedding layer which maps\n",
    "# our vocab indices into embedding_dims dimensions\n",
    "model3.add(Embedding(max_features,\n",
    "                    embedding_dims,\n",
    "                    input_length=maxlen))\n",
    "model3.add(Dropout(0.5))\n",
    "\n",
    "# we add a Convolution1D, which will learn filters\n",
    "# word group filters of size filter_length:\n",
    "model3.add(Conv1D(filters,\n",
    "                 kernel_size,\n",
    "                 padding='valid',\n",
    "                 activation='relu',\n",
    "                 strides=1))\n",
    "# we use max pooling:\n",
    "model3.add(GlobalMaxPooling1D())\n",
    "\n",
    "# We add a vanilla hidden layer:\n",
    "model3.add(Dense(hidden_dims))\n",
    "model3.add(Dropout(0.5))\n",
    "model3.add(Activation('relu'))\n",
    "\n",
    "# We project onto a single unit output layer, and squash it with a sigmoid:\n",
    "model3.add(Dense(1))\n",
    "model3.add(Activation('sigmoid'))\n",
    "\n",
    "model3.compile(loss='binary_crossentropy',\n",
    "              optimizer='adam',\n",
    "              metrics=['acc'])"
   ]
  },
  {
   "cell_type": "code",
   "execution_count": 45,
   "metadata": {},
   "outputs": [],
   "source": [
    "es = EarlyStopping(monitor='val_loss', mode='min', verbose=1)"
   ]
  },
  {
   "cell_type": "code",
   "execution_count": 46,
   "metadata": {},
   "outputs": [
    {
     "name": "stderr",
     "output_type": "stream",
     "text": [
      "C:\\Users\\syurasek\\AppData\\Local\\Continuum\\anaconda3\\lib\\site-packages\\tensorflow_core\\python\\framework\\indexed_slices.py:424: UserWarning: Converting sparse IndexedSlices to a dense Tensor of unknown shape. This may consume a large amount of memory.\n",
      "  \"Converting sparse IndexedSlices to a dense Tensor of unknown shape. \"\n"
     ]
    },
    {
     "name": "stdout",
     "output_type": "stream",
     "text": [
      "Train on 15000 samples, validate on 10000 samples\n",
      "Epoch 1/20\n",
      "15000/15000 [==============================] - 51s 3ms/step - loss: 0.6934 - acc: 0.5079 - val_loss: 0.6896 - val_acc: 0.5079\n",
      "Epoch 2/20\n",
      "15000/15000 [==============================] - 52s 3ms/step - loss: 0.6765 - acc: 0.5816 - val_loss: 0.6309 - val_acc: 0.7051\n",
      "Epoch 3/20\n",
      "15000/15000 [==============================] - 52s 3ms/step - loss: 0.5340 - acc: 0.7569 - val_loss: 0.4275 - val_acc: 0.8122\n",
      "Epoch 4/20\n",
      "15000/15000 [==============================] - 52s 3ms/step - loss: 0.3844 - acc: 0.8329 - val_loss: 0.3489 - val_acc: 0.8511\n",
      "Epoch 5/20\n",
      "15000/15000 [==============================] - 50s 3ms/step - loss: 0.3139 - acc: 0.8703 - val_loss: 0.3189 - val_acc: 0.8654\n",
      "Epoch 6/20\n",
      "15000/15000 [==============================] - 51s 3ms/step - loss: 0.2676 - acc: 0.8905 - val_loss: 0.3060 - val_acc: 0.8736\n",
      "Epoch 7/20\n",
      "15000/15000 [==============================] - 50s 3ms/step - loss: 0.2331 - acc: 0.9069 - val_loss: 0.2989 - val_acc: 0.8766\n",
      "Epoch 8/20\n",
      "15000/15000 [==============================] - 50s 3ms/step - loss: 0.2129 - acc: 0.9163 - val_loss: 0.2947 - val_acc: 0.8776\n",
      "Epoch 9/20\n",
      "15000/15000 [==============================] - 55s 4ms/step - loss: 0.1860 - acc: 0.9295 - val_loss: 0.2994 - val_acc: 0.8758\n",
      "Epoch 00009: early stopping\n",
      "The 1D CNN took 462.6785 seconds to train.\n"
     ]
    }
   ],
   "source": [
    "start_time_m3 = time.time()\n",
    "history = model3.fit(partial_x_train,partial_y_train, epochs=20, batch_size=512, validation_data=(x_val, y_val), callbacks=[es])\n",
    "\n",
    "total_time_m3 = time.time() - start_time_m3\n",
    "\n",
    "print(\"The 1D CNN dropout took %.4f seconds to train.\" % (total_time_m3))"
   ]
  },
  {
   "cell_type": "code",
   "execution_count": 47,
   "metadata": {},
   "outputs": [
    {
     "data": {
      "image/png": "[encoded data removed]",
      "text/plain": [
       "<Figure size 432x288 with 1 Axes>"
      ]
     },
     "metadata": {
      "needs_background": "light"
     },
     "output_type": "display_data"
    }
   ],
   "source": [
    "acc = history.history['acc']\n",
    "val_acc = history.history['val_acc']\n",
    "loss = history.history['loss']\n",
    "val_loss = history.history['val_loss']\n",
    "\n",
    "epochs = range(1, len(acc) + 1)\n",
    "\n",
    "# \"bo\" is for \"blue dot\"\n",
    "plt.plot(epochs, loss, 'bo', label='Training loss')\n",
    "# b is for \"solid blue line\"\n",
    "plt.plot(epochs, val_loss, 'b', label='Validation loss')\n",
    "plt.title('1D CNN dropout Training and validation loss')\n",
    "plt.xlabel('Epochs')\n",
    "plt.ylabel('Loss')\n",
    "plt.legend()\n",
    "\n",
    "plt.show()"
   ]
  },
  {
   "cell_type": "code",
   "execution_count": 48,
   "metadata": {},
   "outputs": [
    {
     "data": {
      "image/png": "[encoded data removed]",
      "text/plain": [
       "<Figure size 432x288 with 1 Axes>"
      ]
     },
     "metadata": {
      "needs_background": "light"
     },
     "output_type": "display_data"
    }
   ],
   "source": [
    "plt.clf()   # clear figure\n",
    "acc_values = history_dict['acc']\n",
    "val_acc_values = history_dict['val_acc']\n",
    "\n",
    "plt.plot(epochs, acc, 'bo', label='Training acc')\n",
    "plt.plot(epochs, val_acc, 'b', label='Validation acc')\n",
    "plt.title('1D CNN dropout Training and validation accuracy')\n",
    "plt.xlabel('Epochs')\n",
    "plt.ylabel('Loss')\n",
    "plt.legend()\n",
    "\n",
    "plt.show()"
   ]
  },
  {
   "cell_type": "code",
   "execution_count": 49,
   "metadata": {},
   "outputs": [
    {
     "name": "stdout",
     "output_type": "stream",
     "text": [
      "Model: \"sequential_5\"\n",
      "_________________________________________________________________\n",
      "Layer (type)                 Output Shape              Param #   \n",
      "=================================================================\n",
      "embedding_2 (Embedding)      (None, 400, 50)           250000    \n",
      "_________________________________________________________________\n",
      "dropout_1 (Dropout)          (None, 400, 50)           0         \n",
      "_________________________________________________________________\n",
      "conv1d_2 (Conv1D)            (None, 398, 250)          37750     \n",
      "_________________________________________________________________\n",
      "global_max_pooling1d_2 (Glob (None, 250)               0         \n",
      "_________________________________________________________________\n",
      "dense_14 (Dense)             (None, 250)               62750     \n",
      "_________________________________________________________________\n",
      "dropout_2 (Dropout)          (None, 250)               0         \n",
      "_________________________________________________________________\n",
      "activation_3 (Activation)    (None, 250)               0         \n",
      "_________________________________________________________________\n",
      "dense_15 (Dense)             (None, 1)                 251       \n",
      "_________________________________________________________________\n",
      "activation_4 (Activation)    (None, 1)                 0         \n",
      "=================================================================\n",
      "Total params: 350,751\n",
      "Trainable params: 350,751\n",
      "Non-trainable params: 0\n",
      "_________________________________________________________________\n"
     ]
    }
   ],
   "source": [
    "model3.summary()"
   ]
  },
  {
   "cell_type": "code",
   "execution_count": 50,
   "metadata": {},
   "outputs": [
    {
     "name": "stdout",
     "output_type": "stream",
     "text": [
      "25000/25000 [==============================] - 39s 2ms/step\n"
     ]
    },
    {
     "data": {
      "text/plain": [
       "[0.3075513500499725, 0.8725200295448303]"
      ]
     },
     "execution_count": 50,
     "metadata": {},
     "output_type": "execute_result"
    }
   ],
   "source": [
    "results3=model3.evaluate(x_test, y_test)\n",
    "results3"
   ]
  },
  {
   "cell_type": "code",
   "execution_count": 51,
   "metadata": {},
   "outputs": [],
   "source": [
    "####LSTM RNN#####"
   ]
  },
  {
   "cell_type": "code",
   "execution_count": 52,
   "metadata": {},
   "outputs": [],
   "source": [
    "from keras.layers import LSTM\n",
    "from keras.layers.embeddings import Embedding\n",
    "from keras.models import Sequential\n",
    "from keras.layers import Dense, Dropout, Activation\n",
    "\n",
    "max_features=5000\n",
    "model4 = models.Sequential()\n",
    "model4.add(Embedding(max_features, 32))\n",
    "model4.add(LSTM(32))\n",
    "model4.add(Dense(1, activation='sigmoid'))\n",
    "\n",
    "model4.compile(optimizer='adam',\n",
    "              loss='binary_crossentropy',\n",
    "              metrics=['acc'])"
   ]
  },
  {
   "cell_type": "code",
   "execution_count": 53,
   "metadata": {},
   "outputs": [
    {
     "name": "stdout",
     "output_type": "stream",
     "text": [
      "Model: \"sequential_6\"\n",
      "_________________________________________________________________\n",
      "Layer (type)                 Output Shape              Param #   \n",
      "=================================================================\n",
      "embedding_3 (Embedding)      (None, None, 32)          160000    \n",
      "_________________________________________________________________\n",
      "lstm_1 (LSTM)                (None, 32)                8320      \n",
      "_________________________________________________________________\n",
      "dense_16 (Dense)             (None, 1)                 33        \n",
      "=================================================================\n",
      "Total params: 168,353\n",
      "Trainable params: 168,353\n",
      "Non-trainable params: 0\n",
      "_________________________________________________________________\n"
     ]
    }
   ],
   "source": [
    "model4.summary()"
   ]
  },
  {
   "cell_type": "code",
   "execution_count": 54,
   "metadata": {},
   "outputs": [],
   "source": [
    "es = EarlyStopping(monitor='val_loss', mode='min', verbose=1)"
   ]
  },
  {
   "cell_type": "code",
   "execution_count": 55,
   "metadata": {},
   "outputs": [
    {
     "name": "stderr",
     "output_type": "stream",
     "text": [
      "C:\\Users\\syurasek\\AppData\\Local\\Continuum\\anaconda3\\lib\\site-packages\\tensorflow_core\\python\\framework\\indexed_slices.py:424: UserWarning: Converting sparse IndexedSlices to a dense Tensor of unknown shape. This may consume a large amount of memory.\n",
      "  \"Converting sparse IndexedSlices to a dense Tensor of unknown shape. \"\n"
     ]
    },
    {
     "name": "stdout",
     "output_type": "stream",
     "text": [
      "Train on 15000 samples, validate on 10000 samples\n",
      "Epoch 1/20\n",
      "15000/15000 [==============================] - 34s 2ms/step - loss: 0.6802 - acc: 0.6295 - val_loss: 0.6003 - val_acc: 0.7022\n",
      "Epoch 2/20\n",
      "15000/15000 [==============================] - 34s 2ms/step - loss: 0.5730 - acc: 0.7387 - val_loss: 0.5335 - val_acc: 0.7366\n",
      "Epoch 3/20\n",
      "15000/15000 [==============================] - 32s 2ms/step - loss: 0.4372 - acc: 0.8170 - val_loss: 0.3880 - val_acc: 0.8478\n",
      "Epoch 4/20\n",
      "15000/15000 [==============================] - 32s 2ms/step - loss: 0.3282 - acc: 0.8756 - val_loss: 0.3401 - val_acc: 0.8595\n",
      "Epoch 5/20\n",
      "15000/15000 [==============================] - 33s 2ms/step - loss: 0.2619 - acc: 0.9045 - val_loss: 0.3086 - val_acc: 0.8763\n",
      "Epoch 6/20\n",
      "15000/15000 [==============================] - 32s 2ms/step - loss: 0.2156 - acc: 0.9241 - val_loss: 0.3134 - val_acc: 0.8744\n",
      "Epoch 00006: early stopping\n",
      "The LSTM layer took 198.5842 seconds to train.\n"
     ]
    }
   ],
   "source": [
    "start_time_m4 = time.time()\n",
    "history = model4.fit(partial_x_train,partial_y_train, epochs=20, batch_size=512, validation_data=(x_val, y_val), callbacks=[es])\n",
    "total_time_m4 = time.time() - start_time_m4\n",
    "\n",
    "print(\"The LSTM layer took %.4f seconds to train.\" % (total_time_m4))\n"
   ]
  },
  {
   "cell_type": "code",
   "execution_count": 56,
   "metadata": {},
   "outputs": [
    {
     "data": {
      "image/png": "[encoded data removed]",
      "text/plain": [
       "<Figure size 432x288 with 1 Axes>"
      ]
     },
     "metadata": {
      "needs_background": "light"
     },
     "output_type": "display_data"
    }
   ],
   "source": [
    "acc = history.history['acc']\n",
    "val_acc = history.history['val_acc']\n",
    "loss = history.history['loss']\n",
    "val_loss = history.history['val_loss']\n",
    "\n",
    "epochs = range(1, len(acc) + 1)\n",
    "\n",
    "# \"bo\" is for \"blue dot\"\n",
    "plt.plot(epochs, loss, 'bo', label='Training loss')\n",
    "# b is for \"solid blue line\"\n",
    "plt.plot(epochs, val_loss, 'b', label='Validation loss')\n",
    "plt.title('LSTM Training and validation loss')\n",
    "plt.xlabel('Epochs')\n",
    "plt.ylabel('Loss')\n",
    "plt.legend()\n",
    "\n",
    "plt.show()"
   ]
  },
  {
   "cell_type": "code",
   "execution_count": 57,
   "metadata": {},
   "outputs": [
    {
     "data": {
      "image/png": "[encoded data removed]",
      "text/plain": [
       "<Figure size 432x288 with 1 Axes>"
      ]
     },
     "metadata": {
      "needs_background": "light"
     },
     "output_type": "display_data"
    }
   ],
   "source": [
    "plt.clf()   # clear figure\n",
    "acc_values = history_dict['acc']\n",
    "val_acc_values = history_dict['val_acc']\n",
    "\n",
    "plt.plot(epochs, acc, 'bo', label='Training acc')\n",
    "plt.plot(epochs, val_acc, 'b', label='Validation acc')\n",
    "plt.title('LSTM Training and validation accuracy')\n",
    "plt.xlabel('Epochs')\n",
    "plt.ylabel('Loss')\n",
    "plt.legend()\n",
    "\n",
    "plt.show()"
   ]
  },
  {
   "cell_type": "code",
   "execution_count": 58,
   "metadata": {},
   "outputs": [
    {
     "name": "stdout",
     "output_type": "stream",
     "text": [
      "25000/25000 [==============================] - 54s 2ms/step\n"
     ]
    },
    {
     "data": {
      "text/plain": [
       "[0.32492368746757505, 0.8694000244140625]"
      ]
     },
     "execution_count": 58,
     "metadata": {},
     "output_type": "execute_result"
    }
   ],
   "source": [
    "results=model4.evaluate(x_test, y_test)\n",
    "results"
   ]
  },
  {
   "cell_type": "code",
   "execution_count": 59,
   "metadata": {},
   "outputs": [],
   "source": [
    "####CNN & LSTM####"
   ]
  },
  {
   "cell_type": "code",
   "execution_count": 60,
   "metadata": {},
   "outputs": [],
   "source": [
    "from keras.layers import MaxPooling1D\n",
    "embedding_vecor_length = 32\n",
    "\n",
    "model5 = models.Sequential()\n",
    "model5.add(Embedding(max_features, embedding_vecor_length, input_length=400))\n",
    "model5.add(Conv1D(filters=32, kernel_size=3, padding='same', activation='relu'))\n",
    "model5.add(MaxPooling1D(pool_size=2))\n",
    "model5.add(LSTM(32))\n",
    "model5.add(Dense(1, activation='sigmoid'))\n",
    "\n",
    "model5.compile(optimizer='adam',\n",
    "              loss='binary_crossentropy',\n",
    "              metrics=['acc'])"
   ]
  },
  {
   "cell_type": "code",
   "execution_count": 61,
   "metadata": {},
   "outputs": [
    {
     "name": "stderr",
     "output_type": "stream",
     "text": [
      "C:\\Users\\syurasek\\AppData\\Local\\Continuum\\anaconda3\\lib\\site-packages\\tensorflow_core\\python\\framework\\indexed_slices.py:424: UserWarning: Converting sparse IndexedSlices to a dense Tensor of unknown shape. This may consume a large amount of memory.\n",
      "  \"Converting sparse IndexedSlices to a dense Tensor of unknown shape. \"\n"
     ]
    },
    {
     "name": "stdout",
     "output_type": "stream",
     "text": [
      "Train on 15000 samples, validate on 10000 samples\n",
      "Epoch 1/20\n",
      "15000/15000 [==============================] - 27s 2ms/step - loss: 0.6880 - acc: 0.5921 - val_loss: 0.6565 - val_acc: 0.7108\n",
      "Epoch 2/20\n",
      "15000/15000 [==============================] - 26s 2ms/step - loss: 0.5080 - acc: 0.7751 - val_loss: 0.3763 - val_acc: 0.8533\n",
      "Epoch 3/20\n",
      "15000/15000 [==============================] - 24s 2ms/step - loss: 0.3177 - acc: 0.8755 - val_loss: 0.3433 - val_acc: 0.8540\n",
      "Epoch 4/20\n",
      "15000/15000 [==============================] - 24s 2ms/step - loss: 0.2530 - acc: 0.9042 - val_loss: 0.2959 - val_acc: 0.8784\n",
      "Epoch 5/20\n",
      "15000/15000 [==============================] - 24s 2ms/step - loss: 0.1954 - acc: 0.9333 - val_loss: 0.3025 - val_acc: 0.8771\n",
      "Epoch 00005: early stopping\n",
      "The CNN & LSTM layer took 128.0339 seconds to train.\n"
     ]
    }
   ],
   "source": [
    "start_time_m5 = time.time()\n",
    "history = model5.fit(partial_x_train,partial_y_train, epochs=20, batch_size=512, validation_data=(x_val, y_val), callbacks=[es])\n",
    "total_time_m5 = time.time() - start_time_m5\n",
    "\n",
    "print(\"The CNN & LSTM layer took %.4f seconds to train.\" % (total_time_m5))"
   ]
  },
  {
   "cell_type": "code",
   "execution_count": 62,
   "metadata": {},
   "outputs": [
    {
     "name": "stdout",
     "output_type": "stream",
     "text": [
      "Model: \"sequential_7\"\n",
      "_________________________________________________________________\n",
      "Layer (type)                 Output Shape              Param #   \n",
      "=================================================================\n",
      "embedding_4 (Embedding)      (None, 400, 32)           160000    \n",
      "_________________________________________________________________\n",
      "conv1d_3 (Conv1D)            (None, 400, 32)           3104      \n",
      "_________________________________________________________________\n",
      "max_pooling1d_1 (MaxPooling1 (None, 200, 32)           0         \n",
      "_________________________________________________________________\n",
      "lstm_2 (LSTM)                (None, 32)                8320      \n",
      "_________________________________________________________________\n",
      "dense_17 (Dense)             (None, 1)                 33        \n",
      "=================================================================\n",
      "Total params: 171,457\n",
      "Trainable params: 171,457\n",
      "Non-trainable params: 0\n",
      "_________________________________________________________________\n"
     ]
    }
   ],
   "source": [
    "model5.summary()"
   ]
  },
  {
   "cell_type": "code",
   "execution_count": 63,
   "metadata": {},
   "outputs": [
    {
     "data": {
      "image/png": "[encoded data removed]",
      "text/plain": [
       "<Figure size 432x288 with 1 Axes>"
      ]
     },
     "metadata": {
      "needs_background": "light"
     },
     "output_type": "display_data"
    }
   ],
   "source": [
    "acc = history.history['acc']\n",
    "val_acc = history.history['val_acc']\n",
    "loss = history.history['loss']\n",
    "val_loss = history.history['val_loss']\n",
    "\n",
    "epochs = range(1, len(acc) + 1)\n",
    "\n",
    "# \"bo\" is for \"blue dot\"\n",
    "plt.plot(epochs, loss, 'bo', label='Training loss')\n",
    "# b is for \"solid blue line\"\n",
    "plt.plot(epochs, val_loss, 'b', label='Validation loss')\n",
    "plt.title('CNN&LSTM Training and validation loss')\n",
    "plt.xlabel('Epochs')\n",
    "plt.ylabel('Loss')\n",
    "plt.legend()\n",
    "\n",
    "plt.show()"
   ]
  },
  {
   "cell_type": "code",
   "execution_count": 64,
   "metadata": {},
   "outputs": [
    {
     "data": {
      "image/png": "[encoded data removed]",
      "text/plain": [
       "<Figure size 432x288 with 1 Axes>"
      ]
     },
     "metadata": {
      "needs_background": "light"
     },
     "output_type": "display_data"
    }
   ],
   "source": [
    "plt.clf()   # clear figure\n",
    "acc_values = history_dict['acc']\n",
    "val_acc_values = history_dict['val_acc']\n",
    "\n",
    "plt.plot(epochs, acc, 'bo', label='Training acc')\n",
    "plt.plot(epochs, val_acc, 'b', label='Validation acc')\n",
    "plt.title('CNN&LSTM Training and validation accuracy')\n",
    "plt.xlabel('Epochs')\n",
    "plt.ylabel('Loss')\n",
    "plt.legend()\n",
    "\n",
    "plt.show()"
   ]
  },
  {
   "cell_type": "code",
   "execution_count": 65,
   "metadata": {},
   "outputs": [
    {
     "name": "stdout",
     "output_type": "stream",
     "text": [
      "25000/25000 [==============================] - 39s 2ms/step\n"
     ]
    },
    {
     "data": {
      "text/plain": [
       "[0.3157062283229828, 0.8710799813270569]"
      ]
     },
     "execution_count": 65,
     "metadata": {},
     "output_type": "execute_result"
    }
   ],
   "source": [
    "results5=model5.evaluate(x_test, y_test)\n",
    "results5"
   ]
  },
  {
   "cell_type": "code",
   "execution_count": 66,
   "metadata": {},
   "outputs": [],
   "source": [
    "####CNN &LSTM optimizer#####"
   ]
  },
  {
   "cell_type": "code",
   "execution_count": 67,
   "metadata": {},
   "outputs": [],
   "source": [
    "from keras.layers import MaxPooling1D\n",
    "embedding_vecor_length = 32\n",
    "\n",
    "model6 = models.Sequential()\n",
    "model6.add(Embedding(max_features, embedding_vecor_length, input_length=400))\n",
    "model6.add(Conv1D(filters=32, kernel_size=3, padding='same', activation='relu'))\n",
    "model6.add(MaxPooling1D(pool_size=2))\n",
    "model6.add(LSTM(32))\n",
    "model6.add(Dense(1, activation='sigmoid'))\n",
    "\n",
    "model6.compile(optimizer='rmsprop',\n",
    "              loss='binary_crossentropy',\n",
    "              metrics=['acc'])"
   ]
  },
  {
   "cell_type": "code",
   "execution_count": 68,
   "metadata": {},
   "outputs": [
    {
     "name": "stderr",
     "output_type": "stream",
     "text": [
      "C:\\Users\\syurasek\\AppData\\Local\\Continuum\\anaconda3\\lib\\site-packages\\tensorflow_core\\python\\framework\\indexed_slices.py:424: UserWarning: Converting sparse IndexedSlices to a dense Tensor of unknown shape. This may consume a large amount of memory.\n",
      "  \"Converting sparse IndexedSlices to a dense Tensor of unknown shape. \"\n"
     ]
    },
    {
     "name": "stdout",
     "output_type": "stream",
     "text": [
      "Train on 15000 samples, validate on 10000 samples\n",
      "Epoch 1/20\n",
      "15000/15000 [==============================] - 25s 2ms/step - loss: 0.6506 - acc: 0.6310 - val_loss: 0.5352 - val_acc: 0.7823\n",
      "Epoch 2/20\n",
      "15000/15000 [==============================] - 24s 2ms/step - loss: 0.4847 - acc: 0.8005 - val_loss: 0.4342 - val_acc: 0.8318\n",
      "Epoch 3/20\n",
      "15000/15000 [==============================] - 24s 2ms/step - loss: 0.3771 - acc: 0.8496 - val_loss: 0.3765 - val_acc: 0.8607\n",
      "Epoch 4/20\n",
      "15000/15000 [==============================] - 25s 2ms/step - loss: 0.3103 - acc: 0.8797 - val_loss: 0.3328 - val_acc: 0.8649\n",
      "Epoch 5/20\n",
      "15000/15000 [==============================] - 25s 2ms/step - loss: 0.2739 - acc: 0.8945 - val_loss: 0.3855 - val_acc: 0.8356\n",
      "Epoch 00005: early stopping\n",
      "The CNN & LSTM Optimizer RMSprop layer took 126.9313 seconds to train.\n",
      "25000/25000 [==============================] - 33s 1ms/step\n"
     ]
    },
    {
     "data": {
      "text/plain": [
       "[0.39002856410980224, 0.8317199945449829]"
      ]
     },
     "execution_count": 68,
     "metadata": {},
     "output_type": "execute_result"
    }
   ],
   "source": [
    "start_time_m6 = time.time()\n",
    "history = model6.fit(partial_x_train,partial_y_train, epochs=20, batch_size=512, validation_data=(x_val, y_val), callbacks=[es])\n",
    "total_time_m6 = time.time() - start_time_m6\n",
    "\n",
    "print(\"The CNN & LSTM Optimizer RMSprop layer took %.4f seconds to train.\" % (total_time_m6))\n",
    "results6=model6.evaluate(x_test, y_test)\n",
    "results6"
   ]
  },
  {
   "cell_type": "code",
   "execution_count": 69,
   "metadata": {},
   "outputs": [
    {
     "data": {
      "image/png": "[encoded data removed]",
      "text/plain": [
       "<Figure size 432x288 with 1 Axes>"
      ]
     },
     "metadata": {
      "needs_background": "light"
     },
     "output_type": "display_data"
    }
   ],
   "source": [
    "acc = history.history['acc']\n",
    "val_acc = history.history['val_acc']\n",
    "loss = history.history['loss']\n",
    "val_loss = history.history['val_loss']\n",
    "\n",
    "epochs = range(1, len(acc) + 1)\n",
    "\n",
    "# \"bo\" is for \"blue dot\"\n",
    "plt.plot(epochs, loss, 'bo', label='Training loss')\n",
    "# b is for \"solid blue line\"\n",
    "plt.plot(epochs, val_loss, 'b', label='Validation loss')\n",
    "plt.title('CNN&LSTM Optimizer Training and validation loss')\n",
    "plt.xlabel('Epochs')\n",
    "plt.ylabel('Loss')\n",
    "plt.legend()\n",
    "\n",
    "plt.show()"
   ]
  },
  {
   "cell_type": "code",
   "execution_count": 70,
   "metadata": {},
   "outputs": [
    {
     "data": {
      "image/png": "[encoded data removed]",
      "text/plain": [
       "<Figure size 432x288 with 1 Axes>"
      ]
     },
     "metadata": {
      "needs_background": "light"
     },
     "output_type": "display_data"
    }
   ],
   "source": [
    "plt.clf()   # clear figure\n",
    "acc_values = history_dict['acc']\n",
    "val_acc_values = history_dict['val_acc']\n",
    "\n",
    "plt.plot(epochs, acc, 'bo', label='Training acc')\n",
    "plt.plot(epochs, val_acc, 'b', label='Validation acc')\n",
    "plt.title('CNN&LSTM Optimizer Training and validation accuracy')\n",
    "plt.xlabel('Epochs')\n",
    "plt.ylabel('Loss')\n",
    "plt.legend()\n",
    "\n",
    "plt.show()"
   ]
  },
  {
   "cell_type": "code",
   "execution_count": 74,
   "metadata": {},
   "outputs": [],
   "source": [
    "models = ['Model 1','Model 2','Model 3','Model 4','Model 5','Model 6', 'Model 7', 'Model 8']\n",
    "methods = ['1L DNN','2L DNN','2L DNN OPT','1D CNN','1D CNN DROPOUT','LSTM','CNN&LSTM', 'CNN&LSTM OPT']\n",
    "epochs = ['20','20','2','5','9','6','5','5']\n",
    "optimizer = ['Adam','Adam','Rmsprop','Adam','Adam','Adam','Adam', 'Rmsprop']\n",
    "es = ['No','No','Yes','Yes','Yes','Yes','Yes','Yes']\n",
    "accuracy_metric = ['0.84532','0.84288','0.87040','0.88304','0.87252','0.86940', '0.87107','0.83171' ]\n",
    "time = ['32.8294','33.5044','5.7809','276.5342','462.678','198.5842','128.0339 ', '126.9313']"
   ]
  },
  {
   "cell_type": "code",
   "execution_count": 75,
   "metadata": {},
   "outputs": [],
   "source": [
    "model_comparison = pd.DataFrame(\n",
    "    {'Model': models,\n",
    "     'Methods': methods,\n",
    "     'Epochs':epochs,\n",
    "     'EarlyStopping': es,\n",
    "     'Optimizer' : optimizer,\n",
    "     'Accuracy': accuracy_metric,\n",
    "     'RunTime (Seconds)': time,\n",
    "    })"
   ]
  },
  {
   "cell_type": "code",
   "execution_count": 76,
   "metadata": {
    "scrolled": true
   },
   "outputs": [
    {
     "data": {
      "text/html": [
       "<div>\n",
       "<style scoped>\n",
       "    .dataframe tbody tr th:only-of-type {\n",
       "        vertical-align: middle;\n",
       "    }\n",
       "\n",
       "    .dataframe tbody tr th {\n",
       "        vertical-align: top;\n",
       "    }\n",
       "\n",
       "    .dataframe thead th {\n",
       "        text-align: right;\n",
       "    }\n",
       "</style>\n",
       "<table border=\"1\" class=\"dataframe\">\n",
       "  <thead>\n",
       "    <tr style=\"text-align: right;\">\n",
       "      <th></th>\n",
       "      <th>Model</th>\n",
       "      <th>Methods</th>\n",
       "      <th>Epochs</th>\n",
       "      <th>EarlyStopping</th>\n",
       "      <th>Optimizer</th>\n",
       "      <th>Accuracy</th>\n",
       "      <th>RunTime (Seconds)</th>\n",
       "    </tr>\n",
       "  </thead>\n",
       "  <tbody>\n",
       "    <tr>\n",
       "      <td>0</td>\n",
       "      <td>Model 1</td>\n",
       "      <td>1L DNN</td>\n",
       "      <td>20</td>\n",
       "      <td>No</td>\n",
       "      <td>Adam</td>\n",
       "      <td>0.84532</td>\n",
       "      <td>32.8294</td>\n",
       "    </tr>\n",
       "    <tr>\n",
       "      <td>1</td>\n",
       "      <td>Model 2</td>\n",
       "      <td>2L DNN</td>\n",
       "      <td>20</td>\n",
       "      <td>No</td>\n",
       "      <td>Adam</td>\n",
       "      <td>0.84288</td>\n",
       "      <td>33.5044</td>\n",
       "    </tr>\n",
       "    <tr>\n",
       "      <td>2</td>\n",
       "      <td>Model 3</td>\n",
       "      <td>2L DNN OPT</td>\n",
       "      <td>2</td>\n",
       "      <td>Yes</td>\n",
       "      <td>Rmsprop</td>\n",
       "      <td>0.87040</td>\n",
       "      <td>5.7809</td>\n",
       "    </tr>\n",
       "    <tr>\n",
       "      <td>3</td>\n",
       "      <td>Model 4</td>\n",
       "      <td>1D CNN</td>\n",
       "      <td>5</td>\n",
       "      <td>Yes</td>\n",
       "      <td>Adam</td>\n",
       "      <td>0.88304</td>\n",
       "      <td>276.5342</td>\n",
       "    </tr>\n",
       "    <tr>\n",
       "      <td>4</td>\n",
       "      <td>Model 5</td>\n",
       "      <td>1D CNN DROPOUT</td>\n",
       "      <td>9</td>\n",
       "      <td>Yes</td>\n",
       "      <td>Adam</td>\n",
       "      <td>0.87252</td>\n",
       "      <td>462.678</td>\n",
       "    </tr>\n",
       "    <tr>\n",
       "      <td>5</td>\n",
       "      <td>Model 6</td>\n",
       "      <td>LSTM</td>\n",
       "      <td>6</td>\n",
       "      <td>Yes</td>\n",
       "      <td>Adam</td>\n",
       "      <td>0.86940</td>\n",
       "      <td>198.5842</td>\n",
       "    </tr>\n",
       "    <tr>\n",
       "      <td>6</td>\n",
       "      <td>Model 7</td>\n",
       "      <td>CNN&amp;LSTM</td>\n",
       "      <td>5</td>\n",
       "      <td>Yes</td>\n",
       "      <td>Adam</td>\n",
       "      <td>0.87107</td>\n",
       "      <td>128.0339</td>\n",
       "    </tr>\n",
       "    <tr>\n",
       "      <td>7</td>\n",
       "      <td>Model 8</td>\n",
       "      <td>CNN&amp;LSTM OPT</td>\n",
       "      <td>5</td>\n",
       "      <td>Yes</td>\n",
       "      <td>Rmsprop</td>\n",
       "      <td>0.83171</td>\n",
       "      <td>126.9313</td>\n",
       "    </tr>\n",
       "  </tbody>\n",
       "</table>\n",
       "</div>"
      ],
      "text/plain": [
       "     Model         Methods Epochs EarlyStopping Optimizer Accuracy  \\\n",
       "0  Model 1          1L DNN     20            No      Adam  0.84532   \n",
       "1  Model 2          2L DNN     20            No      Adam  0.84288   \n",
       "2  Model 3      2L DNN OPT      2           Yes   Rmsprop  0.87040   \n",
       "3  Model 4          1D CNN      5           Yes      Adam  0.88304   \n",
       "4  Model 5  1D CNN DROPOUT      9           Yes      Adam  0.87252   \n",
       "5  Model 6            LSTM      6           Yes      Adam  0.86940   \n",
       "6  Model 7        CNN&LSTM      5           Yes      Adam  0.87107   \n",
       "7  Model 8    CNN&LSTM OPT      5           Yes   Rmsprop  0.83171   \n",
       "\n",
       "  RunTime (Seconds)  \n",
       "0           32.8294  \n",
       "1           33.5044  \n",
       "2            5.7809  \n",
       "3          276.5342  \n",
       "4           462.678  \n",
       "5          198.5842  \n",
       "6         128.0339   \n",
       "7          126.9313  "
      ]
     },
     "execution_count": 76,
     "metadata": {},
     "output_type": "execute_result"
    }
   ],
   "source": [
    "model_comparison"
   ]
  },
  {
   "cell_type": "code",
   "execution_count": null,
   "metadata": {},
   "outputs": [],
   "source": []
  },
  {
   "cell_type": "code",
   "execution_count": null,
   "metadata": {},
   "outputs": [],
   "source": []
  }
 ],
 "metadata": {
  "kernelspec": {
   "display_name": "Python 3",
   "language": "python",
   "name": "python3"
  },
  "language_info": {
   "codemirror_mode": {
    "name": "ipython",
    "version": 3
   },
   "file_extension": ".py",
   "mimetype": "text/x-python",
   "name": "python",
   "nbconvert_exporter": "python",
   "pygments_lexer": "ipython3",
   "version": "3.7.4"
  }
 },
 "nbformat": 4,
 "nbformat_minor": 2
}
